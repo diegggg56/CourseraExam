{
 "cells": [
  {
   "cell_type": "markdown",
   "id": "e8ceb1ee-b88e-4078-9bff-68bef4fc30ca",
   "metadata": {},
   "source": [
    "# Data Science Tools and Ecosystem"
   ]
  },
  {
   "cell_type": "markdown",
   "id": "3ff2793f-02b1-4209-9115-dc77751a6b51",
   "metadata": {},
   "source": [
    "## Author: Diego"
   ]
  },
  {
   "cell_type": "code",
   "execution_count": null,
   "id": "f9efe816-577f-4993-8186-9e8328c7c439",
   "metadata": {},
   "outputs": [],
   "source": []
  }
 ],
 "metadata": {
  "kernelspec": {
   "display_name": "Python 3 (ipykernel)",
   "language": "python",
   "name": "python3"
  },
  "language_info": {
   "codemirror_mode": {
    "name": "ipython",
    "version": 3
   },
   "file_extension": ".py",
   "mimetype": "text/x-python",
   "name": "python",
   "nbconvert_exporter": "python",
   "pygments_lexer": "ipython3",
   "version": "3.11.5"
  }
 },
 "nbformat": 4,
 "nbformat_minor": 5
}
